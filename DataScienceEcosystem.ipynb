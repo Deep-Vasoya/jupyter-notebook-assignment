{
 "cells": [
  {
   "cell_type": "markdown",
   "id": "cd2cf28c-784b-41cf-a603-a376fe6ba0a6",
   "metadata": {},
   "source": [
    "# Data Science Tools and Ecosystem"
   ]
  },
  {
   "cell_type": "markdown",
   "id": "10e06e3b-8277-4c88-a106-bf1b539dfe40",
   "metadata": {},
   "source": [
    "In this notebook, Data Science Tools and Ecosystem are summarized."
   ]
  },
  {
   "cell_type": "markdown",
   "id": "763ec984-b2fe-4173-b692-1382b1c79c5a",
   "metadata": {},
   "source": [
    "**Objectives:**\n",
    "* List popular languages that Data Scientists use.\n",
    "* List commonly used libraries used by Data Scientists.\n",
    "* Comment on Data Science tools."
   ]
  },
  {
   "cell_type": "markdown",
   "id": "515f258f-7d35-45b3-9f75-5b755f141c8c",
   "metadata": {},
   "source": [
    "Some of the popular languages that Data Scientists use are:\n",
    "1. **Python:** A versatile and beginner-friendly language widely used for data analysis, machine learning, and data visualization.\n",
    "2. **R:** A powerful language specifically designed for statistical computing and data graphics. \n",
    "3. **SQL:**  A structured query language essential for interacting with relational databases and retrieving data for analysis."
   ]
  },
  {
   "cell_type": "markdown",
   "id": "6700b49d-735b-4280-ac52-2e78d81a8ef3",
   "metadata": {},
   "source": [
    "Some of the commonly used libraries used by Data Scientists include:\n",
    "\n",
    "1. **NumPy:** Provides a powerful foundation for numerical computing with multi-dimensional arrays and linear algebra functions.\n",
    "2. **Pandas:** Offers high-performance, easy-to-use data structures (DataFrames) for data analysis and manipulation.\n",
    "3. **Matplotlib:** A fundamental library for creating static, animated, and interactive visualizations of data."
   ]
  },
  {
   "cell_type": "markdown",
   "id": "d42032c2-fa51-4fc0-8113-007e6b896b37",
   "metadata": {},
   "source": [
    "|Data Science Tools|\n",
    "|---|\n",
    "|Jupyter Notebook|\n",
    "|PyCharm|\n",
    "|Visual Studio Code|"
   ]
  },
  {
   "cell_type": "markdown",
   "id": "171e2dd5-c059-4047-9940-87ddb2c9ac57",
   "metadata": {},
   "source": [
    "### Below are a few examples of evaluating arithmetic expressions in Python"
   ]
  },
  {
   "cell_type": "code",
   "execution_count": 15,
   "id": "80876cfb-e128-4280-9171-d372df0cd406",
   "metadata": {},
   "outputs": [
    {
     "data": {
      "text/plain": [
       "17"
      ]
     },
     "execution_count": 15,
     "metadata": {},
     "output_type": "execute_result"
    }
   ],
   "source": [
    "# This a simple arithmetic expression to mutiply then add integers.\n",
    "(3*4)+5"
   ]
  },
  {
   "cell_type": "code",
   "execution_count": 16,
   "id": "a2ffbcfc-0bb6-4da9-8d27-043168acfcfa",
   "metadata": {},
   "outputs": [
    {
     "name": "stdout",
     "output_type": "stream",
     "text": [
      "200 minutes is equal to 3.3333333333333335 hours.\n"
     ]
    }
   ],
   "source": [
    "# This will convert 200 minutes to hours by diving by 60\n",
    "minutes = 200\n",
    "hours = minutes / 60\n",
    "\n",
    "print(f\"{minutes} minutes is equal to {hours} hours.\")"
   ]
  },
  {
   "cell_type": "markdown",
   "id": "72050864-b7d6-418b-80c3-cb09a98baadd",
   "metadata": {},
   "source": [
    "## Author \n",
    "Deep Vasoya"
   ]
  },
  {
   "cell_type": "code",
   "execution_count": null,
   "id": "0c7bc16d-7cc7-419c-8894-e208bd39cb6e",
   "metadata": {},
   "outputs": [],
   "source": []
  }
 ],
 "metadata": {
  "kernelspec": {
   "display_name": "Python 3 (ipykernel)",
   "language": "python",
   "name": "python3"
  },
  "language_info": {
   "codemirror_mode": {
    "name": "ipython",
    "version": 3
   },
   "file_extension": ".py",
   "mimetype": "text/x-python",
   "name": "python",
   "nbconvert_exporter": "python",
   "pygments_lexer": "ipython3",
   "version": "3.12.3"
  }
 },
 "nbformat": 4,
 "nbformat_minor": 5
}
